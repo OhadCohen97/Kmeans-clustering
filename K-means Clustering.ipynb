{
 "cells": [
  {
   "cell_type": "markdown",
   "metadata": {
    "collapsed": true,
    "pycharm": {
     "name": "#%% md\n"
    }
   },
   "source": [
    "**K-means Clustering**"
   ]
  },
  {
   "cell_type": "markdown",
   "source": [
    "Import libraries:"
   ],
   "metadata": {
    "collapsed": false
   }
  },
  {
   "cell_type": "code",
   "execution_count": 298,
   "outputs": [],
   "source": [
    "from sklearn.decomposition import PCA\n",
    "from sklearn.cluster import KMeans\n",
    "import numpy as np"
   ],
   "metadata": {
    "collapsed": false,
    "pycharm": {
     "name": "#%%\n"
    }
   }
  },
  {
   "cell_type": "markdown",
   "source": [
    "The dataset I use is from sklearn hand write digits:\n",
    "\n",
    "Digits dataset contains images of size 8×8 pixels,\n",
    " which is flattened to create a feature vector of length 64. We used PCA to reduce the number of dimensions so that we can visualize the results using a 2D Scatter plot."
   ],
   "metadata": {
    "collapsed": false
   }
  },
  {
   "cell_type": "code",
   "execution_count": 299,
   "outputs": [],
   "source": [
    "from sklearn.datasets import load_digits\n",
    "data = load_digits().data #loading the digits\n",
    "pca = PCA(2)"
   ],
   "metadata": {
    "collapsed": false,
    "pycharm": {
     "name": "#%%\n"
    }
   }
  },
  {
   "cell_type": "markdown",
   "source": [
    "Transform the data from 64 dimensions to 2:"
   ],
   "metadata": {
    "collapsed": false
   }
  },
  {
   "cell_type": "code",
   "execution_count": 300,
   "outputs": [
    {
     "data": {
      "text/plain": "(1797, 2)"
     },
     "execution_count": 300,
     "metadata": {},
     "output_type": "execute_result"
    }
   ],
   "source": [
    "df = pca.fit_transform(data)\n",
    "df.shape"
   ],
   "metadata": {
    "collapsed": false,
    "pycharm": {
     "name": "#%%\n"
    }
   }
  },
  {
   "cell_type": "markdown",
   "source": [
    "**Plot the original data:**"
   ],
   "metadata": {
    "collapsed": false
   }
  },
  {
   "cell_type": "code",
   "execution_count": 301,
   "outputs": [
    {
     "data": {
      "text/plain": "<Figure size 432x288 with 1 Axes>",
      "image/png": "[encoded data removed]"
     },
     "metadata": {
      "needs_background": "light"
     },
     "output_type": "display_data"
    }
   ],
   "source": [
    "import matplotlib.pyplot as plt\n",
    "#plotting the results\n",
    "plt.scatter(df[:,0] , df[:,1])\n",
    "plt.show()"
   ],
   "metadata": {
    "collapsed": false,
    "pycharm": {
     "name": "#%%\n"
    }
   }
  },
  {
   "cell_type": "markdown",
   "source": [
    "**Inertia:Sum of squared distances of samples to their closest cluster center.**\n",
    "\n",
    "**creating and initialize KMeans model object:**\n",
    "\n",
    "n_clusters = is for setting the amount of clusters\n",
    "\n",
    "init = generates locations of the clusters randomly on the grid dimension.\n",
    "\n",
    "n_init = number of time the k-means algorithm will be run with different centroid in the first iteration.'random'= choose n_clusters observations (rows) at random from data for the initial centroids.\n",
    "\n",
    "max_iter = maximum number of iterations of the k-means algorithm for a single run.The final results will be the best output of n_init consecutive runs in terms of inertia.\n",
    "\n",
    "verbose = verbosity mode."
   ],
   "metadata": {
    "collapsed": false
   }
  },
  {
   "cell_type": "code",
   "execution_count": 302,
   "outputs": [],
   "source": [
    "clf=KMeans(n_clusters=10,init='random',n_init=20,max_iter=500,verbose=2)"
   ],
   "metadata": {
    "collapsed": false,
    "pycharm": {
     "name": "#%%\n"
    }
   }
  },
  {
   "cell_type": "markdown",
   "source": [
    "**Note:** Because it is unsupervised learning algorithm,\n",
    "and we don't give the Y values when we train, it automatically generates a Y value for every signal test data point that we give it.\n",
    "So, we don't actually need to split into test and training data because it doesn't know where to start and what our test data is.\n",
    "We can actually just compare the test data labels to what our 'estimator'(or classifier) estimated-what it predicted each label was."
   ],
   "metadata": {
    "collapsed": false
   }
  },
  {
   "cell_type": "markdown",
   "source": [
    "predict the labels of clusters:"
   ],
   "metadata": {
    "collapsed": false,
    "pycharm": {
     "name": "#%% md\n"
    }
   }
  },
  {
   "cell_type": "code",
   "source": [
    "labels = clf.fit_predict(df)"
   ],
   "metadata": {
    "collapsed": false,
    "pycharm": {
     "name": "#%%\n"
    }
   },
   "execution_count": 303,
   "outputs": [
    {
     "name": "stdout",
     "output_type": "stream",
     "text": [
      "Initialization complete\n",
      "Iteration 0, inertia 134580.64373560835\n",
      "Iteration 1, inertia 75726.35803572244\n",
      "Iteration 2, inertia 70659.27066129312\n",
      "Iteration 3, inertia 68672.23058379134\n",
      "Iteration 4, inertia 67912.82749528356\n",
      "Iteration 5, inertia 67627.5098026814\n",
      "Iteration 6, inertia 67512.46233607603\n",
      "Iteration 7, inertia 67474.16524129688\n",
      "Iteration 8, inertia 67452.7688865903\n",
      "Iteration 9, inertia 67431.95140959183\n",
      "Iteration 10, inertia 67396.5830809617\n",
      "Iteration 11, inertia 67372.59274343184\n",
      "Iteration 12, inertia 67362.53247951175\n",
      "Iteration 13, inertia 67347.35969682269\n",
      "Iteration 14, inertia 67326.13634323467\n",
      "Iteration 15, inertia 67308.60010266438\n",
      "Iteration 16, inertia 67299.72046072861\n",
      "Iteration 17, inertia 67294.87752307885\n",
      "Converged at iteration 17: center shift 0.007630064093034138 within tolerance 0.017126697825689256.\n",
      "Initialization complete\n",
      "Iteration 0, inertia 134546.5409923078\n",
      "Iteration 1, inertia 70218.77073910684\n",
      "Iteration 2, inertia 63421.190767153086\n",
      "Iteration 3, inertia 61299.49049726752\n",
      "Iteration 4, inertia 60210.84439091844\n",
      "Iteration 5, inertia 59728.58924497267\n",
      "Iteration 6, inertia 59465.043250302035\n",
      "Iteration 7, inertia 59094.906109264884\n",
      "Iteration 8, inertia 58876.58602816901\n",
      "Iteration 9, inertia 58712.86611593034\n",
      "Iteration 10, inertia 58647.990989345635\n",
      "Iteration 11, inertia 58615.054290548665\n",
      "Iteration 12, inertia 58596.748390948414\n",
      "Converged at iteration 12: center shift 0.006015369404021144 within tolerance 0.017126697825689256.\n",
      "Initialization complete\n",
      "Iteration 0, inertia 118908.03952883846\n",
      "Iteration 1, inertia 73818.09484367464\n",
      "Iteration 2, inertia 69075.61049643529\n",
      "Iteration 3, inertia 67839.8203522599\n",
      "Iteration 4, inertia 67254.70501712908\n",
      "Iteration 5, inertia 67011.7480233132\n",
      "Iteration 6, inertia 66777.90091519197\n",
      "Iteration 7, inertia 66625.12781486013\n",
      "Iteration 8, inertia 66550.84524208767\n",
      "Iteration 9, inertia 66502.14872642739\n",
      "Iteration 10, inertia 66481.81911287755\n",
      "Iteration 11, inertia 66476.25974502195\n",
      "Converged at iteration 11: center shift 0.005803092971150391 within tolerance 0.017126697825689256.\n",
      "Initialization complete\n",
      "Iteration 0, inertia 125021.58934603042\n",
      "Iteration 1, inertia 76883.81299781917\n",
      "Iteration 2, inertia 66168.9574113643\n",
      "Iteration 3, inertia 64034.53499418036\n",
      "Iteration 4, inertia 63079.33437253601\n",
      "Iteration 5, inertia 62063.818351064474\n",
      "Iteration 6, inertia 61163.83227037548\n",
      "Iteration 7, inertia 60391.374290195745\n",
      "Iteration 8, inertia 59838.029827899205\n",
      "Iteration 9, inertia 59433.94693829422\n",
      "Iteration 10, inertia 59096.89318912008\n",
      "Iteration 11, inertia 58753.20334033911\n",
      "Iteration 12, inertia 58399.46702703431\n",
      "Iteration 13, inertia 58122.58257324651\n",
      "Iteration 14, inertia 57875.24945707036\n",
      "Iteration 15, inertia 57669.55665329401\n",
      "Iteration 16, inertia 57592.69728785658\n",
      "Iteration 17, inertia 57529.25971240841\n",
      "Iteration 18, inertia 57499.60593912723\n",
      "Iteration 19, inertia 57466.68844440665\n",
      "Iteration 20, inertia 57447.00395531321\n",
      "Iteration 21, inertia 57431.68561067147\n",
      "Iteration 22, inertia 57422.26861328803\n",
      "Iteration 23, inertia 57414.01057466641\n",
      "Converged at iteration 23: center shift 0.016188956235147357 within tolerance 0.017126697825689256.\n",
      "Initialization complete\n",
      "Iteration 0, inertia 103623.65525148164\n",
      "Iteration 1, inertia 75442.55326534712\n",
      "Iteration 2, inertia 67917.88973551184\n",
      "Iteration 3, inertia 64008.93647854623\n",
      "Iteration 4, inertia 61622.94604786444\n",
      "Iteration 5, inertia 60100.87132152177\n",
      "Iteration 6, inertia 59194.14005431725\n",
      "Iteration 7, inertia 58821.85865480428\n",
      "Iteration 8, inertia 58566.916013250746\n",
      "Iteration 9, inertia 58320.42033078789\n",
      "Iteration 10, inertia 58083.37748702417\n",
      "Iteration 11, inertia 57843.75041026677\n",
      "Iteration 12, inertia 57660.92194437596\n",
      "Iteration 13, inertia 57546.459360762055\n",
      "Iteration 14, inertia 57412.87569134255\n",
      "Iteration 15, inertia 57296.031473113726\n",
      "Iteration 16, inertia 57223.33682293748\n",
      "Iteration 17, inertia 57050.03094093894\n",
      "Iteration 18, inertia 56873.36347125744\n",
      "Iteration 19, inertia 56751.73293730701\n",
      "Iteration 20, inertia 56624.553043742424\n",
      "Iteration 21, inertia 56543.16967688264\n",
      "Iteration 22, inertia 56493.090738685496\n",
      "Iteration 23, inertia 56455.59737145823\n",
      "Iteration 24, inertia 56427.54614422577\n",
      "Iteration 25, inertia 56409.883437669334\n",
      "Iteration 26, inertia 56396.997608546066\n",
      "Iteration 27, inertia 56390.85395398706\n",
      "Converged at iteration 27: center shift 0.002878950196289548 within tolerance 0.017126697825689256.\n",
      "Initialization complete\n",
      "Iteration 0, inertia 120398.90548500912\n",
      "Iteration 1, inertia 74657.52856695268\n",
      "Iteration 2, inertia 67732.50766346694\n",
      "Iteration 3, inertia 64984.07186569176\n",
      "Iteration 4, inertia 63461.49470404506\n",
      "Iteration 5, inertia 62779.41053521989\n",
      "Iteration 6, inertia 62480.051344806445\n",
      "Iteration 7, inertia 62263.604338868165\n",
      "Iteration 8, inertia 61928.944033313936\n",
      "Iteration 9, inertia 61701.89592373813\n",
      "Iteration 10, inertia 61395.230588301354\n",
      "Iteration 11, inertia 61146.47347094598\n",
      "Iteration 12, inertia 61024.24669990208\n",
      "Iteration 13, inertia 60928.82612486884\n",
      "Iteration 14, inertia 60817.10058857386\n",
      "Iteration 15, inertia 60680.213562576035\n",
      "Iteration 16, inertia 60348.15376738547\n",
      "Iteration 17, inertia 60044.03305070281\n",
      "Iteration 18, inertia 59768.9056630709\n",
      "Iteration 19, inertia 59633.567689913085\n",
      "Iteration 20, inertia 59511.36163724894\n",
      "Iteration 21, inertia 59393.757779909734\n",
      "Iteration 22, inertia 59289.707041135494\n",
      "Iteration 23, inertia 59222.971728861536\n",
      "Iteration 24, inertia 59077.948819140496\n",
      "Iteration 25, inertia 58878.117001639206\n",
      "Iteration 26, inertia 58557.10892850385\n",
      "Iteration 27, inertia 58280.39088333254\n",
      "Iteration 28, inertia 57865.40194262936\n",
      "Iteration 29, inertia 57269.08866579479\n",
      "Iteration 30, inertia 56713.675274363115\n",
      "Iteration 31, inertia 56574.99630020205\n",
      "Iteration 32, inertia 56481.5771521456\n",
      "Iteration 33, inertia 56369.29007176745\n",
      "Iteration 34, inertia 56286.456508905256\n",
      "Iteration 35, inertia 56273.998942450395\n",
      "Converged at iteration 35: center shift 0.015726727560725216 within tolerance 0.017126697825689256.\n",
      "Initialization complete\n",
      "Iteration 0, inertia 180342.23953408276\n",
      "Iteration 1, inertia 78584.3089447858\n",
      "Iteration 2, inertia 70463.22263335813\n",
      "Iteration 3, inertia 67807.2473399245\n",
      "Iteration 4, inertia 65814.86131316294\n",
      "Iteration 5, inertia 63977.6783546057\n",
      "Iteration 6, inertia 62552.60311445386\n",
      "Iteration 7, inertia 61161.22899087385\n",
      "Iteration 8, inertia 59635.224540408766\n",
      "Iteration 9, inertia 57940.62956901739\n",
      "Iteration 10, inertia 57201.34519635665\n",
      "Iteration 11, inertia 56887.528638030395\n",
      "Iteration 12, inertia 56657.033924399155\n",
      "Iteration 13, inertia 56429.98908121756\n",
      "Iteration 14, inertia 56344.35376757626\n",
      "Iteration 15, inertia 56292.21206309175\n",
      "Iteration 16, inertia 56271.481854675716\n",
      "Iteration 17, inertia 56265.98853966317\n",
      "Converged at iteration 17: strict convergence.\n",
      "Initialization complete\n",
      "Iteration 0, inertia 125172.74520126784\n",
      "Iteration 1, inertia 74740.34345501389\n",
      "Iteration 2, inertia 65489.46408827826\n",
      "Iteration 3, inertia 62735.523418748344\n",
      "Iteration 4, inertia 61622.87209241104\n",
      "Iteration 5, inertia 61241.33011721674\n",
      "Iteration 6, inertia 60891.86129043073\n",
      "Iteration 7, inertia 60758.761054598486\n",
      "Iteration 8, inertia 60597.43633963204\n",
      "Iteration 9, inertia 60414.37475685583\n",
      "Iteration 10, inertia 60227.218027546536\n",
      "Iteration 11, inertia 60017.71776901736\n",
      "Iteration 12, inertia 59924.22838674131\n",
      "Iteration 13, inertia 59839.0349653287\n",
      "Iteration 14, inertia 59699.97623716139\n",
      "Iteration 15, inertia 59588.26456115647\n",
      "Iteration 16, inertia 59501.53630636262\n",
      "Iteration 17, inertia 59380.609372635\n",
      "Iteration 18, inertia 59270.09652622424\n",
      "Iteration 19, inertia 59168.33049674473\n",
      "Iteration 20, inertia 59026.029158302015\n",
      "Iteration 21, inertia 58926.089023322056\n",
      "Iteration 22, inertia 58833.22766219445\n",
      "Iteration 23, inertia 58685.026553471376\n",
      "Iteration 24, inertia 58612.09832020085\n",
      "Iteration 25, inertia 58559.1839234226\n",
      "Iteration 26, inertia 58492.52586501419\n",
      "Iteration 27, inertia 58402.13818065734\n",
      "Iteration 28, inertia 58218.677993894635\n",
      "Iteration 29, inertia 58026.629244906726\n",
      "Iteration 30, inertia 57878.457756507785\n",
      "Iteration 31, inertia 57729.08599977656\n",
      "Iteration 32, inertia 57645.25095402504\n",
      "Iteration 33, inertia 57559.35871005278\n",
      "Iteration 34, inertia 57462.50377123068\n",
      "Iteration 35, inertia 57376.37776455364\n",
      "Iteration 36, inertia 57314.46143283613\n",
      "Iteration 37, inertia 57288.82342356388\n",
      "Iteration 38, inertia 57283.56750422252\n",
      "Converged at iteration 38: center shift 0.007679980349406884 within tolerance 0.017126697825689256.\n",
      "Initialization complete\n",
      "Iteration 0, inertia 211549.87113988565\n",
      "Iteration 1, inertia 108980.72698688696\n",
      "Iteration 2, inertia 96154.01732703739\n",
      "Iteration 3, inertia 89488.3560335423\n",
      "Iteration 4, inertia 83394.64675319269\n",
      "Iteration 5, inertia 79535.2971281887\n",
      "Iteration 6, inertia 77144.9898677702\n",
      "Iteration 7, inertia 75633.26604540161\n",
      "Iteration 8, inertia 74592.6774786005\n",
      "Iteration 9, inertia 73852.15548188948\n",
      "Iteration 10, inertia 73307.62019231646\n",
      "Iteration 11, inertia 72905.14326636645\n",
      "Iteration 12, inertia 72621.73875999455\n",
      "Iteration 13, inertia 72348.18953312495\n",
      "Iteration 14, inertia 72159.55432048748\n",
      "Iteration 15, inertia 71998.1360007796\n",
      "Iteration 16, inertia 71915.75696819442\n",
      "Iteration 17, inertia 71874.82686015738\n",
      "Iteration 18, inertia 71827.43715726268\n",
      "Iteration 19, inertia 71804.74821527343\n",
      "Iteration 20, inertia 71768.35704415695\n",
      "Iteration 21, inertia 71702.9127203571\n",
      "Iteration 22, inertia 71613.60952935273\n",
      "Iteration 23, inertia 71353.67818034257\n",
      "Iteration 24, inertia 70830.80520509019\n",
      "Iteration 25, inertia 69990.61680898748\n",
      "Iteration 26, inertia 69201.32021564351\n",
      "Iteration 27, inertia 68521.40842799132\n",
      "Iteration 28, inertia 67889.77054115034\n",
      "Iteration 29, inertia 67142.46941392952\n",
      "Iteration 30, inertia 66137.4726673416\n",
      "Iteration 31, inertia 65080.027382262044\n",
      "Iteration 32, inertia 64113.42808242234\n",
      "Iteration 33, inertia 62943.379411512244\n",
      "Iteration 34, inertia 61495.07122249088\n",
      "Iteration 35, inertia 59996.70414812078\n",
      "Iteration 36, inertia 58760.253594602975\n",
      "Iteration 37, inertia 57968.442068514305\n",
      "Iteration 38, inertia 57286.48516597883\n",
      "Iteration 39, inertia 56801.895696268286\n",
      "Iteration 40, inertia 56513.518397603526\n",
      "Iteration 41, inertia 56414.52471018626\n",
      "Iteration 42, inertia 56336.31327216135\n",
      "Iteration 43, inertia 56306.98287846571\n",
      "Iteration 44, inertia 56289.77986863157\n",
      "Converged at iteration 44: center shift 0.006101296248124374 within tolerance 0.017126697825689256.\n",
      "Initialization complete\n",
      "Iteration 0, inertia 509259.6733805699\n",
      "Iteration 1, inertia 97948.36764409879\n",
      "Iteration 2, inertia 76937.30334134461\n",
      "Iteration 3, inertia 71575.51370701485\n",
      "Iteration 4, inertia 68500.5224769168\n",
      "Iteration 5, inertia 66782.55984867369\n",
      "Iteration 6, inertia 65363.51698466397\n",
      "Iteration 7, inertia 64153.56996934589\n",
      "Iteration 8, inertia 63417.02631001383\n",
      "Iteration 9, inertia 62795.72359574458\n",
      "Iteration 10, inertia 62142.101430332455\n",
      "Iteration 11, inertia 61605.2190284161\n",
      "Iteration 12, inertia 61146.86534216018\n",
      "Iteration 13, inertia 60828.568822115936\n",
      "Iteration 14, inertia 60630.51140599141\n",
      "Iteration 15, inertia 60461.57013333256\n",
      "Iteration 16, inertia 60289.46424906973\n",
      "Iteration 17, inertia 60107.033774217445\n",
      "Iteration 18, inertia 59886.998700050666\n",
      "Iteration 19, inertia 59591.22682575351\n",
      "Iteration 20, inertia 59244.74013106842\n",
      "Iteration 21, inertia 58894.58488756228\n",
      "Iteration 22, inertia 58753.1726362215\n",
      "Iteration 23, inertia 58628.549021442115\n",
      "Iteration 24, inertia 58499.33851217681\n",
      "Iteration 25, inertia 58378.68647877788\n",
      "Iteration 26, inertia 58223.41340376771\n",
      "Iteration 27, inertia 58021.82573888177\n",
      "Iteration 28, inertia 57659.29743680376\n",
      "Iteration 29, inertia 57245.63573806242\n",
      "Iteration 30, inertia 56835.049824713606\n",
      "Iteration 31, inertia 56644.80404175988\n",
      "Iteration 32, inertia 56462.24865432513\n",
      "Iteration 33, inertia 56335.80460735828\n",
      "Iteration 34, inertia 56311.15322409295\n",
      "Iteration 35, inertia 56297.565858510294\n",
      "Iteration 36, inertia 56285.86027904332\n",
      "Iteration 37, inertia 56268.93553314459\n",
      "Iteration 38, inertia 56262.33963099388\n",
      "Iteration 39, inertia 56256.34285353521\n",
      "Converged at iteration 39: center shift 0.0017555344369109874 within tolerance 0.017126697825689256.\n",
      "Initialization complete\n",
      "Iteration 0, inertia 116867.17081182996\n",
      "Iteration 1, inertia 76490.25448318294\n",
      "Iteration 2, inertia 72888.33096106927\n",
      "Iteration 3, inertia 70323.36423401175\n",
      "Iteration 4, inertia 68093.67339427595\n",
      "Iteration 5, inertia 66309.27697011911\n",
      "Iteration 6, inertia 65280.742030466936\n",
      "Iteration 7, inertia 64668.05854226708\n",
      "Iteration 8, inertia 64213.92293809729\n",
      "Iteration 9, inertia 63607.740002962564\n",
      "Iteration 10, inertia 62923.81708839845\n",
      "Iteration 11, inertia 61792.06504874001\n",
      "Iteration 12, inertia 60469.17456551794\n",
      "Iteration 13, inertia 59424.930602489454\n",
      "Iteration 14, inertia 58866.20217074878\n",
      "Iteration 15, inertia 58535.1166745167\n",
      "Iteration 16, inertia 58271.64979064944\n",
      "Iteration 17, inertia 58131.19785213643\n",
      "Iteration 18, inertia 58007.11320766927\n",
      "Iteration 19, inertia 57963.14000824889\n",
      "Iteration 20, inertia 57883.921235189235\n",
      "Iteration 21, inertia 57825.6283249832\n",
      "Iteration 22, inertia 57792.86601397097\n",
      "Iteration 23, inertia 57767.73795759305\n",
      "Iteration 24, inertia 57744.36968268337\n",
      "Iteration 25, inertia 57718.34825565856\n",
      "Iteration 26, inertia 57689.400021138164\n",
      "Iteration 27, inertia 57660.43020744443\n",
      "Iteration 28, inertia 57604.6512858213\n",
      "Iteration 29, inertia 57566.45721391366\n",
      "Iteration 30, inertia 57544.179264500446\n",
      "Iteration 31, inertia 57539.34463089676\n",
      "Converged at iteration 31: center shift 0.00606004908130167 within tolerance 0.017126697825689256.\n",
      "Initialization complete\n",
      "Iteration 0, inertia 188600.46225374486\n",
      "Iteration 1, inertia 86755.04237394662\n",
      "Iteration 2, inertia 76188.67525509273\n",
      "Iteration 3, inertia 73608.9449396328\n",
      "Iteration 4, inertia 71417.96799883079\n",
      "Iteration 5, inertia 69500.76447705308\n",
      "Iteration 6, inertia 68177.96206403415\n",
      "Iteration 7, inertia 67662.73586311897\n",
      "Iteration 8, inertia 67399.7476722829\n",
      "Iteration 9, inertia 67178.75918931734\n",
      "Iteration 10, inertia 67047.74955928855\n",
      "Iteration 11, inertia 66968.5676365107\n",
      "Iteration 12, inertia 66910.09169176541\n",
      "Iteration 13, inertia 66858.5306816962\n",
      "Iteration 14, inertia 66788.85228849496\n",
      "Iteration 15, inertia 66708.50567550886\n",
      "Iteration 16, inertia 66648.28283257235\n",
      "Iteration 17, inertia 66608.0163502924\n",
      "Iteration 18, inertia 66595.70877673606\n",
      "Converged at iteration 18: center shift 0.0135173866604776 within tolerance 0.017126697825689256.\n",
      "Initialization complete\n",
      "Iteration 0, inertia 145930.64216357147\n",
      "Iteration 1, inertia 82189.22378753276\n",
      "Iteration 2, inertia 72847.70350626505\n",
      "Iteration 3, inertia 68562.53850396576\n",
      "Iteration 4, inertia 65739.82125709721\n",
      "Iteration 5, inertia 64238.712788631194\n",
      "Iteration 6, inertia 63581.233470180356\n",
      "Iteration 7, inertia 63325.96976466664\n",
      "Iteration 8, inertia 63233.48394300472\n",
      "Iteration 9, inertia 63161.51207137021\n",
      "Iteration 10, inertia 63104.29399281409\n",
      "Iteration 11, inertia 63062.383693280455\n",
      "Iteration 12, inertia 63025.18714819699\n",
      "Iteration 13, inertia 62975.536214086096\n",
      "Iteration 14, inertia 62930.855537066025\n",
      "Iteration 15, inertia 62871.61651991935\n",
      "Iteration 16, inertia 62783.325987274366\n",
      "Iteration 17, inertia 62666.98306845956\n",
      "Iteration 18, inertia 62532.71390960228\n",
      "Iteration 19, inertia 62451.39449865317\n",
      "Iteration 20, inertia 62412.292470237415\n",
      "Iteration 21, inertia 62393.646168308485\n",
      "Iteration 22, inertia 62366.84694255825\n",
      "Iteration 23, inertia 62340.439346046514\n",
      "Iteration 24, inertia 62283.66542960625\n",
      "Iteration 25, inertia 62218.35867910774\n",
      "Iteration 26, inertia 62135.87760972503\n",
      "Iteration 27, inertia 62071.0622887594\n",
      "Iteration 28, inertia 61992.950186615766\n",
      "Iteration 29, inertia 61917.33197879698\n",
      "Iteration 30, inertia 61800.02839039364\n",
      "Iteration 31, inertia 61746.959110679934\n",
      "Iteration 32, inertia 61700.03084434504\n",
      "Iteration 33, inertia 61643.78403755243\n",
      "Iteration 34, inertia 61586.47675869827\n",
      "Iteration 35, inertia 61543.68463617971\n",
      "Iteration 36, inertia 61454.89862860393\n",
      "Iteration 37, inertia 61358.245988373936\n",
      "Iteration 38, inertia 61316.18764172428\n",
      "Iteration 39, inertia 61281.561000645626\n",
      "Iteration 40, inertia 61263.19021772232\n",
      "Iteration 41, inertia 61245.156622417395\n",
      "Iteration 42, inertia 61221.864905914066\n",
      "Iteration 43, inertia 61194.429182834014\n",
      "Iteration 44, inertia 61176.568740783594\n",
      "Iteration 45, inertia 61166.237629958494\n",
      "Iteration 46, inertia 61154.226318386725\n",
      "Iteration 47, inertia 61142.84543685517\n",
      "Iteration 48, inertia 61120.78031673764\n",
      "Iteration 49, inertia 61109.76604579136\n",
      "Iteration 50, inertia 61099.7545388268\n",
      "Converged at iteration 50: center shift 0.013612694363398965 within tolerance 0.017126697825689256.\n",
      "Initialization complete\n",
      "Iteration 0, inertia 123331.82575197285\n",
      "Iteration 1, inertia 98767.61849251116\n",
      "Iteration 2, inertia 88693.59807858978\n",
      "Iteration 3, inertia 79949.99715612993\n",
      "Iteration 4, inertia 73814.28275883473\n",
      "Iteration 5, inertia 70696.877090881\n",
      "Iteration 6, inertia 68098.7877466202\n",
      "Iteration 7, inertia 64692.67654216056\n",
      "Iteration 8, inertia 62087.439787655734\n",
      "Iteration 9, inertia 60743.821452601755\n",
      "Iteration 10, inertia 59956.193149474755\n",
      "Iteration 11, inertia 59189.71133037154\n",
      "Iteration 12, inertia 58458.940797221694\n",
      "Iteration 13, inertia 58070.69778257748\n",
      "Iteration 14, inertia 57849.318095830706\n",
      "Iteration 15, inertia 57697.65701905413\n",
      "Iteration 16, inertia 57635.310122610834\n",
      "Iteration 17, inertia 57589.30114551075\n",
      "Iteration 18, inertia 57560.856637413664\n",
      "Iteration 19, inertia 57545.22868749121\n",
      "Iteration 20, inertia 57539.333436379406\n",
      "Converged at iteration 20: center shift 0.006155369106382319 within tolerance 0.017126697825689256.\n",
      "Initialization complete\n",
      "Iteration 0, inertia 148588.63633017387\n",
      "Iteration 1, inertia 80322.66647843728\n",
      "Iteration 2, inertia 71136.3721915217\n",
      "Iteration 3, inertia 66473.05977677225\n",
      "Iteration 4, inertia 64031.66919916783\n",
      "Iteration 5, inertia 62487.3059397546\n",
      "Iteration 6, inertia 61402.99676599487\n",
      "Iteration 7, inertia 60343.044338280204\n",
      "Iteration 8, inertia 59627.15208144844\n",
      "Iteration 9, inertia 59150.09152059056\n",
      "Iteration 10, inertia 58861.14106965643\n",
      "Iteration 11, inertia 58533.5517393687\n",
      "Iteration 12, inertia 58318.01598969353\n",
      "Iteration 13, inertia 58164.96628288415\n",
      "Iteration 14, inertia 57961.37158526846\n",
      "Iteration 15, inertia 57702.739680402025\n",
      "Iteration 16, inertia 57555.757932361645\n",
      "Iteration 17, inertia 57478.55402719556\n",
      "Iteration 18, inertia 57436.33786511828\n",
      "Iteration 19, inertia 57406.51600814904\n",
      "Iteration 20, inertia 57384.95916077875\n",
      "Iteration 21, inertia 57369.27638944039\n",
      "Iteration 22, inertia 57364.37188588753\n",
      "Converged at iteration 22: strict convergence.\n",
      "Initialization complete\n",
      "Iteration 0, inertia 123817.70399134903\n",
      "Iteration 1, inertia 93349.52781071677\n",
      "Iteration 2, inertia 76911.28545982571\n",
      "Iteration 3, inertia 67947.73851481511\n",
      "Iteration 4, inertia 63941.97962051204\n",
      "Iteration 5, inertia 62031.626591848755\n",
      "Iteration 6, inertia 60808.57292784882\n",
      "Iteration 7, inertia 59866.31858995884\n",
      "Iteration 8, inertia 58898.64402307977\n",
      "Iteration 9, inertia 58413.15547593454\n",
      "Iteration 10, inertia 58242.06625105643\n",
      "Iteration 11, inertia 58176.59809559978\n",
      "Iteration 12, inertia 58140.50525897272\n",
      "Iteration 13, inertia 58095.520221071296\n",
      "Iteration 14, inertia 58070.66501123429\n",
      "Iteration 15, inertia 58064.59877912604\n",
      "Converged at iteration 15: center shift 0.010533202761540548 within tolerance 0.017126697825689256.\n",
      "Initialization complete\n",
      "Iteration 0, inertia 175958.725155964\n",
      "Iteration 1, inertia 78984.78021283651\n",
      "Iteration 2, inertia 71877.51139243065\n",
      "Iteration 3, inertia 69613.00404615671\n",
      "Iteration 4, inertia 68459.50356274428\n",
      "Iteration 5, inertia 67854.47855012018\n",
      "Iteration 6, inertia 67647.63465743959\n",
      "Iteration 7, inertia 67563.79986406113\n",
      "Iteration 8, inertia 67496.5017837813\n",
      "Iteration 9, inertia 67448.95372821203\n",
      "Iteration 10, inertia 67425.65559879776\n",
      "Iteration 11, inertia 67417.1208709147\n",
      "Iteration 12, inertia 67403.93273490288\n",
      "Iteration 13, inertia 67389.70844028924\n",
      "Iteration 14, inertia 67380.8489033996\n",
      "Iteration 15, inertia 67367.96699619952\n",
      "Iteration 16, inertia 67358.9765731654\n",
      "Iteration 17, inertia 67348.53552550016\n",
      "Iteration 18, inertia 67342.92841910018\n",
      "Converged at iteration 18: strict convergence.\n",
      "Initialization complete\n",
      "Iteration 0, inertia 180130.61141171848\n",
      "Iteration 1, inertia 99150.8712873963\n",
      "Iteration 2, inertia 82221.16650244908\n",
      "Iteration 3, inertia 75031.44372820905\n",
      "Iteration 4, inertia 71759.23796236239\n",
      "Iteration 5, inertia 69740.0993829181\n",
      "Iteration 6, inertia 68230.41075366185\n",
      "Iteration 7, inertia 66922.78668476947\n",
      "Iteration 8, inertia 65521.77101743972\n",
      "Iteration 9, inertia 64472.570747180696\n",
      "Iteration 10, inertia 63580.73601912649\n",
      "Iteration 11, inertia 62632.38549980938\n",
      "Iteration 12, inertia 61779.681353913715\n",
      "Iteration 13, inertia 61022.64755095374\n",
      "Iteration 14, inertia 60649.04045480398\n",
      "Iteration 15, inertia 60514.17964841549\n",
      "Iteration 16, inertia 60418.43990406534\n",
      "Iteration 17, inertia 60340.426249312644\n",
      "Iteration 18, inertia 60316.868040793954\n",
      "Iteration 19, inertia 60303.16321959804\n",
      "Iteration 20, inertia 60296.85141449265\n",
      "Converged at iteration 20: center shift 0.00657271676925332 within tolerance 0.017126697825689256.\n",
      "Initialization complete\n",
      "Iteration 0, inertia 115235.58501345792\n",
      "Iteration 1, inertia 80668.68518694138\n",
      "Iteration 2, inertia 71837.04968060815\n",
      "Iteration 3, inertia 66869.3239650026\n",
      "Iteration 4, inertia 63915.86765593457\n",
      "Iteration 5, inertia 62276.423190131056\n",
      "Iteration 6, inertia 61500.05557149862\n",
      "Iteration 7, inertia 61019.904336039916\n",
      "Iteration 8, inertia 60718.31351613649\n",
      "Iteration 9, inertia 60356.35634926979\n",
      "Iteration 10, inertia 59926.714561972876\n",
      "Iteration 11, inertia 59587.05196482338\n",
      "Iteration 12, inertia 59394.29395917003\n",
      "Iteration 13, inertia 59071.18642380272\n",
      "Iteration 14, inertia 58724.427262842306\n",
      "Iteration 15, inertia 58544.25301965597\n",
      "Iteration 16, inertia 58414.198128807504\n",
      "Iteration 17, inertia 58318.344937499\n",
      "Iteration 18, inertia 58242.91744003893\n",
      "Iteration 19, inertia 58190.97123610753\n",
      "Iteration 20, inertia 58112.55789051632\n",
      "Iteration 21, inertia 58071.26538216763\n",
      "Iteration 22, inertia 58057.656542109275\n",
      "Iteration 23, inertia 58040.72670356013\n",
      "Iteration 24, inertia 58018.63740196367\n",
      "Iteration 25, inertia 58002.12954744693\n",
      "Iteration 26, inertia 57988.813556032976\n",
      "Iteration 27, inertia 57977.75054531695\n",
      "Iteration 28, inertia 57943.64953006134\n",
      "Iteration 29, inertia 57919.715663776755\n",
      "Converged at iteration 29: center shift 0.013983263572658264 within tolerance 0.017126697825689256.\n",
      "Initialization complete\n",
      "Iteration 0, inertia 183143.78589511497\n",
      "Iteration 1, inertia 87673.9750364287\n",
      "Iteration 2, inertia 72988.13108986763\n",
      "Iteration 3, inertia 69784.16689442315\n",
      "Iteration 4, inertia 67902.00564855603\n",
      "Iteration 5, inertia 67053.52216981142\n",
      "Iteration 6, inertia 66438.8182990619\n",
      "Iteration 7, inertia 65928.51578591859\n",
      "Iteration 8, inertia 65556.43661979311\n",
      "Iteration 9, inertia 65231.640965387225\n",
      "Iteration 10, inertia 64854.72008088208\n",
      "Iteration 11, inertia 64373.9054525055\n",
      "Iteration 12, inertia 63815.000383699575\n",
      "Iteration 13, inertia 63245.9185934771\n",
      "Iteration 14, inertia 62803.25587263935\n",
      "Iteration 15, inertia 62405.41663805313\n",
      "Iteration 16, inertia 62148.74568831829\n",
      "Iteration 17, inertia 61886.33390113224\n",
      "Iteration 18, inertia 61600.49871887639\n",
      "Iteration 19, inertia 61244.760405171975\n",
      "Iteration 20, inertia 60804.512414727375\n",
      "Iteration 21, inertia 60250.01194232569\n",
      "Iteration 22, inertia 59843.98802247311\n",
      "Iteration 23, inertia 59402.01233457867\n",
      "Iteration 24, inertia 59039.84320494856\n",
      "Iteration 25, inertia 58936.70260482723\n",
      "Iteration 26, inertia 58828.51670348712\n",
      "Iteration 27, inertia 58722.05734055824\n",
      "Iteration 28, inertia 58622.975860422965\n",
      "Iteration 29, inertia 58568.0924527821\n",
      "Iteration 30, inertia 58518.90856405279\n",
      "Iteration 31, inertia 58505.37190304324\n",
      "Converged at iteration 31: center shift 0.0029117887126461134 within tolerance 0.017126697825689256.\n"
     ]
    }
   ]
  },
  {
   "cell_type": "markdown",
   "source": [
    "The labels that predicted:"
   ],
   "metadata": {
    "collapsed": false
   }
  },
  {
   "cell_type": "code",
   "execution_count": 304,
   "outputs": [
    {
     "data": {
      "text/plain": "array([4, 1, 9, ..., 9, 6, 3], dtype=int32)"
     },
     "execution_count": 304,
     "metadata": {},
     "output_type": "execute_result"
    }
   ],
   "source": [
    "labels"
   ],
   "metadata": {
    "collapsed": false,
    "pycharm": {
     "name": "#%%\n"
    }
   }
  },
  {
   "cell_type": "markdown",
   "source": [
    "**Plotting the Cluster Centroids:**\n",
    "\n",
    "Getting the Centroids:"
   ],
   "metadata": {
    "collapsed": false,
    "pycharm": {
     "name": "#%% md\n"
    }
   }
  },
  {
   "cell_type": "code",
   "execution_count": 305,
   "outputs": [],
   "source": [
    "centroids = clf.cluster_centers_\n",
    "u_labels = np.unique(labels)"
   ],
   "metadata": {
    "collapsed": false,
    "pycharm": {
     "name": "#%%\n"
    }
   }
  },
  {
   "cell_type": "markdown",
   "source": [
    "Plotting the results:"
   ],
   "metadata": {
    "collapsed": false
   }
  },
  {
   "cell_type": "code",
   "execution_count": 306,
   "outputs": [
    {
     "data": {
      "text/plain": "<Figure size 432x288 with 1 Axes>",
      "image/png": "[encoded data removed]"
     },
     "metadata": {
      "needs_background": "light"
     },
     "output_type": "display_data"
    }
   ],
   "source": [
    "for i in u_labels:\n",
    "    plt.scatter(df[labels == i , 0] , df[labels == i , 1] , label = i)\n",
    "plt.scatter(centroids[:,0] , centroids[:,1] , s = 80, color = 'k')\n",
    "plt.legend()\n",
    "plt.show()"
   ],
   "metadata": {
    "collapsed": false,
    "pycharm": {
     "name": "#%%\n"
    }
   }
  }
 ],
 "metadata": {
  "kernelspec": {
   "display_name": "Python 3",
   "language": "python",
   "name": "python3"
  },
  "language_info": {
   "codemirror_mode": {
    "name": "ipython",
    "version": 2
   },
   "file_extension": ".py",
   "mimetype": "text/x-python",
   "name": "python",
   "nbconvert_exporter": "python",
   "pygments_lexer": "ipython2",
   "version": "2.7.6"
  }
 },
 "nbformat": 4,
 "nbformat_minor": 0
}